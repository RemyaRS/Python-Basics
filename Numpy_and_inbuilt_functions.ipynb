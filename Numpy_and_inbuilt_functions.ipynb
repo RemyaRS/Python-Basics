{
 "cells": [
  {
   "cell_type": "markdown",
   "id": "2be0dc9e",
   "metadata": {},
   "source": [
    "# ONE DIMENSIONAL ARRAY"
   ]
  },
  {
   "cell_type": "code",
   "execution_count": 47,
   "id": "5ca170ab",
   "metadata": {},
   "outputs": [
    {
     "name": "stdout",
     "output_type": "stream",
     "text": [
      "The list formed is:  [2, 5, 4, 7]\n",
      "The array formed from list is:  [2 5 4 7]\n",
      "Element in index of arr 2 is : 4\n",
      "Datatype of arr is : <class 'numpy.ndarray'>\n",
      "Dimension of arr is:  (4,)\n"
     ]
    }
   ],
   "source": [
    "import numpy as np\n",
    "\n",
    "my_list = [2,5,4,7]\n",
    "print(\"The list formed is: \", my_list)\n",
    "\n",
    "arr = np.array(my_list)\n",
    "print(\"The array formed from list is: \", arr)\n",
    "print(\"Element in index of arr 2 is :\", arr[2])\n",
    "print(\"Datatype of arr is :\", type(arr))\n",
    "print(\"Dimension of arr is: \", arr.shape)\n",
    "\n"
   ]
  },
  {
   "cell_type": "markdown",
   "id": "5153986d",
   "metadata": {},
   "source": [
    "# TWO DIMENSIONAL ARRAY"
   ]
  },
  {
   "cell_type": "code",
   "execution_count": 48,
   "id": "4228ca8e",
   "metadata": {},
   "outputs": [
    {
     "name": "stdout",
     "output_type": "stream",
     "text": [
      "The new array formed from 4 list is: \n",
      " [[ 4  5  6  3]\n",
      " [ 2  5  5  3]\n",
      " [ 9  5  6  6]\n",
      " [99  9  6  8]]\n",
      "Selecting all rows and all columns of new_arr gives : \n",
      " [[ 4  5  6  3]\n",
      " [ 2  5  5  3]\n",
      " [ 9  5  6  6]\n",
      " [99  9  6  8]]\n",
      "Selecting first two rows and all columns of new_arr gives : \n",
      " [[4 5 6 3]\n",
      " [2 5 5 3]]\n",
      "Selecting last two rows and last two columns of new_arr gives : \n",
      " [[6 6]\n",
      " [6 8]]\n",
      "Selecting last three rows and last one columns of new_arr gives : \n",
      " [[3]\n",
      " [6]\n",
      " [8]]\n",
      "Datatype of new_arr is : <class 'numpy.ndarray'>\n",
      "Dimension of new_arr is:  (4, 4)\n",
      "\n",
      "\n",
      "Reshape the new array as 1 row and 16 columns : \n",
      " [[ 4  5  6  3  2  5  5  3  9  5  6  6 99  9  6  8]]\n",
      "\n",
      "\n",
      "Reshape the new array as 2 row and 8 columns : \n",
      " [[ 4  5  6  3  2  5  5  3]\n",
      " [ 9  5  6  6 99  9  6  8]]\n"
     ]
    }
   ],
   "source": [
    "list_1=[4,5,6,3]\n",
    "list_2=[2,5,5,3]\n",
    "list_3=[9,5,6,6]\n",
    "list_4=[99,9,6,8]\n",
    "\n",
    "new_arr = np.array([list_1,list_2,list_3,list_4])\n",
    "print(\"The new array formed from 4 list is: \\n\", new_arr)\n",
    "print(\"Selecting all rows and all columns of new_arr gives : \\n\",new_arr[:,:])\n",
    "print(\"Selecting first two rows and all columns of new_arr gives : \\n\",new_arr[0:2,:])\n",
    "print(\"Selecting last two rows and last two columns of new_arr gives : \\n\",new_arr[2:,2:])\n",
    "print(\"Selecting last three rows and last one columns of new_arr gives : \\n\",new_arr[1:,3:])\n",
    "print(\"Datatype of new_arr is :\", type(new_arr))\n",
    "print(\"Dimension of new_arr is: \", new_arr.shape)\n",
    "print('\\n')\n",
    "print(\"Reshape the new array as 1 row and 16 columns : \\n\", new_arr.reshape(1,16))\n",
    "print('\\n')\n",
    "print(\"Reshape the new array as 2 row and 8 columns : \\n\", new_arr.reshape(2,8))\n"
   ]
  },
  {
   "cell_type": "markdown",
   "id": "115a3771",
   "metadata": {},
   "source": [
    "# Copy function and Broadcasting"
   ]
  },
  {
   "cell_type": "code",
   "execution_count": 77,
   "id": "d47241d2",
   "metadata": {},
   "outputs": [
    {
     "name": "stdout",
     "output_type": "stream",
     "text": [
      "Using copy function in the array : [2 4 5 9 0 8 6]\n",
      "And replacement of certain elements the array becomes : [   2    4 1000 1000 1000 1000 1000]\n"
     ]
    }
   ],
   "source": [
    "array_4 = np.array([2,4,5,9,0,8,6])\n",
    "\n",
    "array_5 = array_4.copy()\n",
    "#copy is used to store array_5 in another memory space so that array_4 is not altered due to changes in array_5\n",
    "array_5[2:]=1000\n",
    "print(\"Using copy function in the array :\", array_4)\n",
    "print(\"And replacement of certain elements the array becomes :\", array_5)\n"
   ]
  },
  {
   "cell_type": "markdown",
   "id": "d78093ac",
   "metadata": {},
   "source": [
    "# MAKING ARRAY USING OTHERS KEYWORDS"
   ]
  },
  {
   "cell_type": "code",
   "execution_count": 82,
   "id": "8142d38b",
   "metadata": {},
   "outputs": [
    {
     "name": "stdout",
     "output_type": "stream",
     "text": [
      "Array of first 10 numbers :  [0 1 2 3 4 5 6 7 8 9]\n",
      "Array of numbers with a diff of 2:  [0 2 4 6 8]\n",
      "Array from 0 to 10 with 50 numbers in between : \n",
      " [ 0.          0.20408163  0.40816327  0.6122449   0.81632653  1.02040816\n",
      "  1.2244898   1.42857143  1.63265306  1.83673469  2.04081633  2.24489796\n",
      "  2.44897959  2.65306122  2.85714286  3.06122449  3.26530612  3.46938776\n",
      "  3.67346939  3.87755102  4.08163265  4.28571429  4.48979592  4.69387755\n",
      "  4.89795918  5.10204082  5.30612245  5.51020408  5.71428571  5.91836735\n",
      "  6.12244898  6.32653061  6.53061224  6.73469388  6.93877551  7.14285714\n",
      "  7.34693878  7.55102041  7.75510204  7.95918367  8.16326531  8.36734694\n",
      "  8.57142857  8.7755102   8.97959184  9.18367347  9.3877551   9.59183673\n",
      "  9.79591837 10.        ]\n",
      "\n",
      "\n",
      "Array having 5 float ones in it :  [1. 1. 1. 1. 1.]\n",
      "Array having 5 integer ones in it :  [1 1 1 1 1]\n",
      "Two dimensional 2*5 array having integer ones in it : \n",
      " [[1 1 1 1 1]\n",
      " [1 1 1 1 1]]\n",
      "Two dimensional 2*5 array having float ones in it : \n",
      " [[1. 1. 1. 1. 1.]\n",
      " [1. 1. 1. 1. 1.]]\n",
      "Two dimensional 3*3 array having random numbers in uniform distribution : \n",
      " [[0.56382788 0.91814586 0.40037071]\n",
      " [0.5303003  0.59292601 0.43979206]\n",
      " [0.64532341 0.61844886 0.32738692]]\n",
      "Two dimensional 3*3 array having random numbers in standard normal distribution : \n",
      " [[ 1.08557407 -0.98541128 -0.64922021]\n",
      " [-0.03748338  0.75828471  1.15065969]\n",
      " [ 1.44531999  1.35207225  0.30745464]]\n",
      "One dimensional array having 8 random numbers in range 0 to 100 : \n",
      " [92  1 53  8 68 15 77 75]\n",
      "Two dimensional array having 8 random numbers in range 0 to 100 : \n",
      " [[46 87 88 35]\n",
      " [48 30 16 85]]\n",
      "One dimensional array having 5 random numbers in range 0 to 1 : \n",
      " [[0.5386723  0.38942518 0.7369031  0.79013385 0.99063516]]\n",
      "Two dimensional array having 5 random numbers in each row, in range 0 to 1 : \n",
      " [[0.56856223 0.25241194 0.34868782 0.73818337 0.758925  ]\n",
      " [0.40537722 0.452995   0.60383216 0.32469342 0.60234495]]\n"
     ]
    }
   ],
   "source": [
    "\n",
    "#To make array from series of elements using keyword :\n",
    "\n",
    "#arange\n",
    "array_1 = np.arange(0,10)\n",
    "print(\"Array of first 10 numbers : \",array_1)\n",
    "\n",
    "array_2 = np.arange(0,10,step=2)\n",
    "print(\"Array of numbers with a diff of 2: \",array_2)\n",
    "\n",
    "#linspace\n",
    "array_3 = np.linspace(0,10,50)\n",
    "print(\"Array from 0 to 10 with 50 numbers in between : \\n\",array_3)\n",
    "\n",
    "print('\\n')\n",
    "array_a = np.ones(5)\n",
    "print(\"Array having 5 float ones in it : \", array_a)\n",
    "\n",
    "array_b = np.ones((5), dtype=int)\n",
    "print(\"Array having 5 integer ones in it : \", array_b)\n",
    "\n",
    "array_c = np.ones((2,5), dtype=int)\n",
    "print(\"Two dimensional 2*5 array having integer ones in it : \\n\", array_c)\n",
    "\n",
    "array_d = np.ones((2,5))\n",
    "print(\"Two dimensional 2*5 array having float ones in it : \\n\", array_d)\n",
    "\n",
    "array_e = np.random.rand(3,3)\n",
    "print(\"Two dimensional 3*3 array having random numbers in uniform distribution : \\n\", array_e)\n",
    "\n",
    "array_f = np.random.randn(3,3)\n",
    "print(\"Two dimensional 3*3 array having random numbers in standard normal distribution : \\n\", array_f)\n",
    "\n",
    "array_g = np.random.randint(0,100,8)\n",
    "print(\"One dimensional array having 8 random numbers in range 0 to 100 : \\n\", array_g)\n",
    "\n",
    "array_h = np.random.randint(0,100,8).reshape(2,4)\n",
    "print(\"Two dimensional array having 8 random numbers in range 0 to 100 : \\n\", array_h)\n",
    "\n",
    "array_i = np.random.random_sample((1,5))\n",
    "print(\"One dimensional array having 5 random numbers in range 0 to 1 : \\n\", array_i)\n",
    "\n",
    "array_i = np.random.random_sample((2,5))\n",
    "print(\"Two dimensional array having 5 random numbers in each row, in range 0 to 1 : \\n\", array_i)"
   ]
  },
  {
   "cell_type": "markdown",
   "id": "ed0b2821",
   "metadata": {},
   "source": [
    "# APPLYING ARITHEMATIC OPERATIONS ON ARRAY"
   ]
  },
  {
   "cell_type": "code",
   "execution_count": 61,
   "id": "dc7361da",
   "metadata": {},
   "outputs": [
    {
     "name": "stdout",
     "output_type": "stream",
     "text": [
      "when all elements of array_6 are added with 4  [ 6  9  7 12 14]\n",
      "when all elements of array_6 are subtracted from 4  [-2  1 -1  4  6]\n",
      "when all elements of array_6 are multiplied with 4  [ 8 20 12 32 40]\n",
      "when all elements of array_6 are divided with 4  [0.5  1.25 0.75 2.   2.5 ]\n",
      "\n",
      "\n",
      "when all elements of array_6 are added with elements of array_7  [22 13  6  9 19]\n",
      "when all elements of array_6 are subtracted from elements of array_7  [-18  -3   0   7   1]\n",
      "when all elements of array_6 are multiplied with elements of array_7  [40 40  9  8 90]\n",
      "when all elements of array_6 are divided with elements of array_7  [0.1        0.625      1.         8.         1.11111111]\n"
     ]
    }
   ],
   "source": [
    "array_6 = np.array([2,5,3,8,10])\n",
    "print(\"when all elements of array_6 are added with 4 \", array_6+4)\n",
    "print(\"when all elements of array_6 are subtracted from 4 \", array_6-4)\n",
    "print(\"when all elements of array_6 are multiplied with 4 \", array_6*4)\n",
    "print(\"when all elements of array_6 are divided with 4 \", array_6/4)\n",
    "\n",
    "print('\\n')\n",
    "\n",
    "array_7 = np.array([20,8,3,1,9])\n",
    "print(\"when all elements of array_6 are added with elements of array_7 \", array_6 + array_7)\n",
    "print(\"when all elements of array_6 are subtracted from elements of array_7 \", array_6 - array_7)\n",
    "print(\"when all elements of array_6 are multiplied with elements of array_7 \", array_6 * array_7)\n",
    "print(\"when all elements of array_6 are divided with elements of array_7 \", array_6 / array_7)"
   ]
  },
  {
   "cell_type": "markdown",
   "id": "908251d8",
   "metadata": {},
   "source": [
    "# APPLYING LOGICAL OPERATIONS ON AN ARRAY"
   ]
  },
  {
   "cell_type": "code",
   "execution_count": 64,
   "id": "85bd34f6",
   "metadata": {},
   "outputs": [
    {
     "name": "stdout",
     "output_type": "stream",
     "text": [
      "Checking whether elements of array_6 is less than 3 or not   [ True False False False False]\n",
      "Checking whether elements of array_6 is greater than 3 or not   [False  True False  True  True]\n",
      "Checking whether elements of array_6 is less than array_7 elements or not   [ True  True False False False]\n",
      "Checking whether elements of array_6 is greater than array_7 elements or not   [False False False  True  True]\n"
     ]
    }
   ],
   "source": [
    "print(\"Checking whether elements of array_6 is less than 3 or not  \", array_6<3)\n",
    "print(\"Checking whether elements of array_6 is greater than 3 or not  \", array_6>3)\n",
    "print(\"Checking whether elements of array_6 is less than array_7 elements or not  \", array_6<array_7)\n",
    "print(\"Checking whether elements of array_6 is greater than array_7 elements or not  \", array_6>array_7)\n"
   ]
  }
 ],
 "metadata": {
  "kernelspec": {
   "display_name": "Python 3 (ipykernel)",
   "language": "python",
   "name": "python3"
  },
  "language_info": {
   "codemirror_mode": {
    "name": "ipython",
    "version": 3
   },
   "file_extension": ".py",
   "mimetype": "text/x-python",
   "name": "python",
   "nbconvert_exporter": "python",
   "pygments_lexer": "ipython3",
   "version": "3.9.12"
  }
 },
 "nbformat": 4,
 "nbformat_minor": 5
}
