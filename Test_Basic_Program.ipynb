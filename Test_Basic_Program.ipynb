{
  "nbformat": 4,
  "nbformat_minor": 0,
  "metadata": {
    "colab": {
      "name": "Test Basic Program.ipynb",
      "provenance": [],
      "collapsed_sections": [],
      "authorship_tag": "ABX9TyNZtpD9ehOG654FhjCNHOiH",
      "include_colab_link": true
    },
    "kernelspec": {
      "name": "python3",
      "display_name": "Python 3"
    },
    "language_info": {
      "name": "python"
    }
  },
  "cells": [
    {
      "cell_type": "markdown",
      "metadata": {
        "id": "view-in-github",
        "colab_type": "text"
      },
      "source": [
        "<a href=\"https://colab.research.google.com/github/RemyaRS/Python-Basics/blob/main/Test_Basic_Program.ipynb\" target=\"_parent\"><img src=\"https://colab.research.google.com/assets/colab-badge.svg\" alt=\"Open In Colab\"/></a>"
      ]
    },
    {
      "cell_type": "markdown",
      "source": [
        "1. Map Two Lists into a Dictionary\n",
        "2. Calculate BMI\n",
        "3. Pattern printing\n",
        "4. Find longest Word From Sentence or Text Sorting Dictionary by Value\n",
        "5. Python matrix\n",
        "6. Move all Zeros present in an Array/List to the End\n",
        "7. Check If Two Strings are Anagram"
      ],
      "metadata": {
        "id": "HV-gSx72y9DE"
      }
    },
    {
      "cell_type": "code",
      "source": [
        "# 1. Map Two Lists into a Dictionary\n",
        "L1=['sagdh','jdsk','sdda','shdysf']\n",
        "L2=[34,18,19,23]\n",
        "D1=dict(zip(L1,L2))\n",
        "D2=dict(zip(L2,L1))\n",
        "print(D1)\n",
        "print('')\n",
        "print(D2)"
      ],
      "metadata": {
        "colab": {
          "base_uri": "https://localhost:8080/"
        },
        "id": "03v7Z8Qv0LDO",
        "outputId": "69e98e23-1489-4818-f9ff-20c54050798d"
      },
      "execution_count": null,
      "outputs": [
        {
          "output_type": "stream",
          "name": "stdout",
          "text": [
            "{'sagdh': 34, 'jdsk': 18, 'sdda': 19, 'shdysf': 23}\n",
            "\n",
            "{34: 'sagdh', 18: 'jdsk', 19: 'sdda', 23: 'shdysf'}\n"
          ]
        }
      ]
    },
    {
      "cell_type": "code",
      "source": [
        "# 2. Calculate BMI\n",
        "weight =float(input(\"Enter the weight in Kg:\"))\n",
        "height =float(input(\"Enter the height in cm:\"))\n",
        "bmi=(weight**100)/(height**2)\n",
        "bmi\n",
        "if(bmi<16):\n",
        "  print(\"Severely Underweight\")\n",
        "elif(16>=bmi and bmi<18.5):\n",
        "  print(\"Underweight\")\n",
        "elif(18.5>=bmi and bmi<25):\n",
        "  print(\"Healthy\")\n",
        "elif(25>=bmi and bmi<30):\n",
        "  print(\"Overweight\")\n",
        "elif(bmi>=30):\n",
        "  print(\"Severely Overweight\")"
      ],
      "metadata": {
        "colab": {
          "base_uri": "https://localhost:8080/"
        },
        "id": "MjOmt2JIDumR",
        "outputId": "7a1ce4e5-6b13-4039-f242-880c962cebf8"
      },
      "execution_count": null,
      "outputs": [
        {
          "output_type": "stream",
          "name": "stdout",
          "text": [
            "Enter the weight in Kg:63\n",
            "Enter the height in cm:156\n",
            "Severely Overweight\n"
          ]
        }
      ]
    },
    {
      "cell_type": "code",
      "source": [
        "# 3. Pattern printing\n",
        "\n",
        "#Right Triangles\n",
        "def pypart(n):\n",
        "  for i in range(0,n):\n",
        "    for j in range(0,i+1):\n",
        "      print(\"* \", end=\"\")\n",
        "    print(\"\\r\")\n",
        "n = 5\n",
        "pypart(n)"
      ],
      "metadata": {
        "colab": {
          "base_uri": "https://localhost:8080/"
        },
        "id": "V0hpd4LgD0EE",
        "outputId": "f1ca0231-59a5-4d5e-c922-3e048b6dfca0"
      },
      "execution_count": null,
      "outputs": [
        {
          "output_type": "stream",
          "name": "stdout",
          "text": [
            "* \r\n",
            "* * \r\n",
            "* * * \r\n",
            "* * * * \r\n",
            "* * * * * \r\n"
          ]
        }
      ]
    },
    {
      "cell_type": "code",
      "source": [
        "def pypart(n):\n",
        "  k=2*n-2\n",
        "  for i in range(0,n):\n",
        "    for j in range(0,k):\n",
        "      print(end=\" \")\n",
        "    k=k-2\n",
        "    for j in range(0,i+1):\n",
        "      print(\"* \", end=\"\")\n",
        "    print(\"\\r\")\n",
        "    \n",
        "# Driver Code\n",
        "n = 5\n",
        "pypart(n)"
      ],
      "metadata": {
        "colab": {
          "base_uri": "https://localhost:8080/"
        },
        "id": "E0YIVWlA3W7t",
        "outputId": "d05172a4-2ced-4afc-d8ef-1e4e0c26b458"
      },
      "execution_count": null,
      "outputs": [
        {
          "output_type": "stream",
          "name": "stdout",
          "text": [
            "        * \r\n",
            "      * * \r\n",
            "    * * * \r\n",
            "  * * * * \r\n",
            "* * * * * \r\n"
          ]
        }
      ]
    },
    {
      "cell_type": "code",
      "source": [
        "def triangle(n):\n",
        "  k=n-1\n",
        "  for i in range(0,n):\n",
        "    for j in range(0,k):\n",
        "      print(end=\" \")\n",
        "    k=k-1\n",
        "    for j in range(0,i+1):\n",
        "      print(\"* \", end=\"\")\n",
        "    print(\"\\r\")\n",
        "    \n",
        "# Driver Code\n",
        "n = 5\n",
        "triangle(n)"
      ],
      "metadata": {
        "colab": {
          "base_uri": "https://localhost:8080/"
        },
        "id": "ZzC-KOI57_ll",
        "outputId": "0254e2c6-a89b-416f-b36d-50051fa31a44"
      },
      "execution_count": null,
      "outputs": [
        {
          "output_type": "stream",
          "name": "stdout",
          "text": [
            "    * \r\n",
            "   * * \r\n",
            "  * * * \r\n",
            " * * * * \r\n",
            "* * * * * \r\n"
          ]
        }
      ]
    },
    {
      "cell_type": "code",
      "source": [
        "# 4. Find longest Word From Sentence or Text Sorting Dictionary by Value\n",
        "\n",
        "l1=input(\"Enter the sentence :\")\n",
        "longest=max(l1.split(), key=len)\n",
        "print(\"The longest word in the sentence is:\", longest)"
      ],
      "metadata": {
        "colab": {
          "base_uri": "https://localhost:8080/"
        },
        "id": "i4irD3EcD-Lk",
        "outputId": "75afb8de-235e-46ca-add2-b721982cba86"
      },
      "execution_count": null,
      "outputs": [
        {
          "output_type": "stream",
          "name": "stdout",
          "text": [
            "Enter the sentence :safas asdasmd dasklas\n",
            "The longest word in the sentence is: asdasmd\n"
          ]
        }
      ]
    },
    {
      "cell_type": "code",
      "source": [
        "# 5. Python matrix\n",
        "\n",
        "import numpy as np\n",
        "\n",
        "x=np.array([[1,2],[4,5]])\n",
        "y=np.array([[1,2],[4,5]])\n",
        "print(\"x :\")\n",
        "print(x)\n",
        "print(\" \")\n",
        "print(\"y :\")\n",
        "print(y)\n",
        "print(\" \")\n",
        "print(\"x+y :\")\n",
        "print(np.add(x,y))\n",
        "print(\" \")\n",
        "print(\"sum of elements matrix x\")\n",
        "print(np.sum(x))\n",
        "print(\" \")\n",
        "print(\"sum of elements of rows matrix x\")\n",
        "print(np.sum(x,axis=0))\n",
        "print(\" \")\n",
        "print(\"sum of elements of coloumn matrix x\")\n",
        "print(np.sum(x,axis=1))\n",
        "print(\" \")\n",
        "print(\"x-y :\")\n",
        "print(np.subtract(x,y))\n",
        "print(\" \")\n",
        "print(\"x*y :\")\n",
        "print(np.multiply(x,y))\n",
        "print(\" \")\n",
        "print(\"x/y :\")\n",
        "print(np.divide(x,y))\n",
        "print(\" \")\n",
        "print(\"dot product :\")\n",
        "print(np.dot(x,y))\n",
        "print(\" \")\n",
        "print(\"square root :\")\n",
        "print(np.sqrt(x))\n",
        "print(\" \")\n",
        "print(\"Transpose :\")\n",
        "print(x.T)\n",
        "print(\" \")"
      ],
      "metadata": {
        "colab": {
          "base_uri": "https://localhost:8080/"
        },
        "id": "3HRCs0LfEBoV",
        "outputId": "4e8cdb7d-59d0-4e37-916f-7e8a1483a834"
      },
      "execution_count": null,
      "outputs": [
        {
          "output_type": "stream",
          "name": "stdout",
          "text": [
            "x :\n",
            "[[1 2]\n",
            " [4 5]]\n",
            " \n",
            "y :\n",
            "[[1 2]\n",
            " [4 5]]\n",
            " \n",
            "x+y :\n",
            "[[ 2  4]\n",
            " [ 8 10]]\n",
            " \n",
            "sum of elements matrix x\n",
            "12\n",
            " \n",
            "sum of elements of rows matrix x\n",
            "[5 7]\n",
            " \n",
            "sum of elements of coloumn matrix x\n",
            "[3 9]\n",
            " \n",
            "x-y :\n",
            "[[0 0]\n",
            " [0 0]]\n",
            " \n",
            "x*y :\n",
            "[[ 1  4]\n",
            " [16 25]]\n",
            " \n",
            "x/y :\n",
            "[[1. 1.]\n",
            " [1. 1.]]\n",
            " \n",
            "dot product :\n",
            "[[ 9 12]\n",
            " [24 33]]\n",
            " \n",
            "square root :\n",
            "[[1.         1.41421356]\n",
            " [2.         2.23606798]]\n",
            " \n",
            "Transpose :\n",
            "[[1 4]\n",
            " [2 5]]\n",
            " \n"
          ]
        }
      ]
    },
    {
      "cell_type": "code",
      "source": [
        "# 6. Move all Zeros present in an Array/List to the End\n",
        "\n",
        "# Method 1\n",
        "import numpy as np\n",
        "a=[1,0,7,3,0,4,5,2,0,7]\n",
        "n=len(a)\n",
        "b=np.zeros(n, dtype=int)\n",
        "j=0\n",
        "\n",
        "\n",
        "for i in range(n):\n",
        "  if a[i]!=0:\n",
        "    b[j]=a[i]\n",
        "    j=j+1\n",
        "print(b)"
      ],
      "metadata": {
        "colab": {
          "base_uri": "https://localhost:8080/"
        },
        "id": "JOX1stNLEFyv",
        "outputId": "4373285a-5a62-4859-d8ba-4a8caafac3e0"
      },
      "execution_count": null,
      "outputs": [
        {
          "output_type": "stream",
          "name": "stdout",
          "text": [
            "[1 7 3 4 5 2 7 0 0 0]\n"
          ]
        }
      ]
    },
    {
      "cell_type": "code",
      "source": [
        "# 7. Check If Two Strings are Anagram\n",
        "# An anagram is a word or phrase formed by rearranging the letters of a different word or phrase, typically using all the original letters exactly once.\n",
        "#For example --- : adobe ----> abode.\n",
        "str1=input(\"Enter first string\")\n",
        "str2=input(\"Enter second string\")\n",
        "str1_sort=sorted(str1)\n",
        "str2_sort=sorted(str2)\n",
        "if (len(str1)==len(str2)):\n",
        "  if (str1_sort==str2_sort):\n",
        "    print(\"Two strings are anagram\")\n",
        "  else:\n",
        "    print(\"Two strings are not anagram\")\n",
        "else:\n",
        "  print(\"Two strings are not anagram\") \n"
      ],
      "metadata": {
        "colab": {
          "base_uri": "https://localhost:8080/"
        },
        "id": "PDJhFl-tEJoH",
        "outputId": "9644a0a1-3e03-4681-d5e0-1570c7959337"
      },
      "execution_count": null,
      "outputs": [
        {
          "output_type": "stream",
          "name": "stdout",
          "text": [
            "Enter first stringtyr\n",
            "Enter second stringtry\n",
            "Two strings are anagram\n"
          ]
        }
      ]
    }
  ]
}