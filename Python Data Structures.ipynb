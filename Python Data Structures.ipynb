{
 "cells": [
  {
   "cell_type": "markdown",
   "id": "6637660a",
   "metadata": {},
   "source": [
    "Boolean\n",
    "\n",
    "Boolean and Logical operators\n",
    "\n",
    "Lists\n",
    "\n",
    "Comparision Operators\n",
    "\n",
    "Dictionaries\n",
    "\n",
    "Tuples\n",
    "\n",
    "Sets"
   ]
  },
  {
   "cell_type": "markdown",
   "id": "5df419a2",
   "metadata": {},
   "source": [
    "# Boolean - used to represent true values"
   ]
  },
  {
   "cell_type": "code",
   "execution_count": 1,
   "id": "99c8401e",
   "metadata": {},
   "outputs": [
    {
     "data": {
      "text/plain": [
       "bool"
      ]
     },
     "execution_count": 1,
     "metadata": {},
     "output_type": "execute_result"
    }
   ],
   "source": [
    "type(True)"
   ]
  },
  {
   "cell_type": "code",
   "execution_count": 2,
   "id": "e743b114",
   "metadata": {},
   "outputs": [
    {
     "data": {
      "text/plain": [
       "bool"
      ]
     },
     "execution_count": 2,
     "metadata": {},
     "output_type": "execute_result"
    }
   ],
   "source": [
    "type(False)"
   ]
  },
  {
   "cell_type": "code",
   "execution_count": 3,
   "id": "0a2e9796",
   "metadata": {},
   "outputs": [],
   "source": [
    "string = \"Remya R S\""
   ]
  },
  {
   "cell_type": "code",
   "execution_count": 11,
   "id": "6234153d",
   "metadata": {},
   "outputs": [
    {
     "name": "stdout",
     "output_type": "stream",
     "text": [
      "False\n",
      "False\n",
      "False\n",
      "True\n",
      "False\n",
      "False\n",
      "False\n",
      "True\n",
      "False\n"
     ]
    }
   ],
   "source": [
    "# To check whether string variable is alpha-numerical type\n",
    "print(string.isalnum())\n",
    "# To check whether string variable is alphbetic\n",
    "print(string.isalpha())\n",
    "# To check whether string variable is numerical type\n",
    "print(string.isdigit())\n",
    "# To check whether string variable contain capital letters in begining of a word - title case\n",
    "print(string.istitle())\n",
    "# To check whether string variable has all letters in upper case\n",
    "print(string.isupper())\n",
    "# To check whether string variable has all letters in lower case\n",
    "print(string.islower())\n",
    "# To check whether string variable contains space in between\n",
    "print(string.isspace())\n",
    "# To check whether string variable starts with a given letter\n",
    "print(string.startswith('R'))\n",
    "# To check whether string variable ends with a given letter\n",
    "print(string.endswith('R'))"
   ]
  },
  {
   "cell_type": "markdown",
   "id": "66bb39c9",
   "metadata": {},
   "source": [
    "# Boolean and Logical Operators"
   ]
  },
  {
   "cell_type": "code",
   "execution_count": 12,
   "id": "387c67ff",
   "metadata": {},
   "outputs": [
    {
     "data": {
      "text/plain": [
       "True"
      ]
     },
     "execution_count": 12,
     "metadata": {},
     "output_type": "execute_result"
    }
   ],
   "source": [
    "True and True"
   ]
  },
  {
   "cell_type": "code",
   "execution_count": 13,
   "id": "4352e48a",
   "metadata": {},
   "outputs": [
    {
     "data": {
      "text/plain": [
       "False"
      ]
     },
     "execution_count": 13,
     "metadata": {},
     "output_type": "execute_result"
    }
   ],
   "source": [
    "True and False"
   ]
  },
  {
   "cell_type": "code",
   "execution_count": 14,
   "id": "25c0ac09",
   "metadata": {},
   "outputs": [
    {
     "data": {
      "text/plain": [
       "False"
      ]
     },
     "execution_count": 14,
     "metadata": {},
     "output_type": "execute_result"
    }
   ],
   "source": [
    "False and False"
   ]
  },
  {
   "cell_type": "code",
   "execution_count": 15,
   "id": "0618de73",
   "metadata": {},
   "outputs": [
    {
     "data": {
      "text/plain": [
       "True"
      ]
     },
     "execution_count": 15,
     "metadata": {},
     "output_type": "execute_result"
    }
   ],
   "source": [
    "True or True"
   ]
  },
  {
   "cell_type": "code",
   "execution_count": 16,
   "id": "c68d37b2",
   "metadata": {},
   "outputs": [
    {
     "data": {
      "text/plain": [
       "True"
      ]
     },
     "execution_count": 16,
     "metadata": {},
     "output_type": "execute_result"
    }
   ],
   "source": [
    "True or False"
   ]
  },
  {
   "cell_type": "code",
   "execution_count": 17,
   "id": "9b377c39",
   "metadata": {},
   "outputs": [
    {
     "data": {
      "text/plain": [
       "False"
      ]
     },
     "execution_count": 17,
     "metadata": {},
     "output_type": "execute_result"
    }
   ],
   "source": [
    "False or False"
   ]
  },
  {
   "cell_type": "code",
   "execution_count": 18,
   "id": "97000963",
   "metadata": {},
   "outputs": [
    {
     "data": {
      "text/plain": [
       "True"
      ]
     },
     "execution_count": 18,
     "metadata": {},
     "output_type": "execute_result"
    }
   ],
   "source": [
    "string.endswith('R') or string.startswith('R')"
   ]
  },
  {
   "cell_type": "code",
   "execution_count": 19,
   "id": "6067e52a",
   "metadata": {},
   "outputs": [
    {
     "data": {
      "text/plain": [
       "False"
      ]
     },
     "execution_count": 19,
     "metadata": {},
     "output_type": "execute_result"
    }
   ],
   "source": [
    "string.endswith('R') and string.startswith('R')"
   ]
  },
  {
   "cell_type": "markdown",
   "id": "dd51fdbb",
   "metadata": {},
   "source": [
    "# Lists - Mutable, ordered sequence of elements inside [ ]"
   ]
  },
  {
   "cell_type": "code",
   "execution_count": 101,
   "id": "7dd45fef",
   "metadata": {},
   "outputs": [
    {
     "data": {
      "text/plain": [
       "list"
      ]
     },
     "execution_count": 101,
     "metadata": {},
     "output_type": "execute_result"
    }
   ],
   "source": [
    "my_list = ['a','a',1,2,10,True,[2,'k'],(9,0)]\n",
    "type(my_list) \n",
    "# Elements insde list can be of any types"
   ]
  },
  {
   "cell_type": "code",
   "execution_count": 102,
   "id": "4d68ca1a",
   "metadata": {},
   "outputs": [
    {
     "data": {
      "text/plain": [
       "8"
      ]
     },
     "execution_count": 102,
     "metadata": {},
     "output_type": "execute_result"
    }
   ],
   "source": [
    "len(my_list)"
   ]
  },
  {
   "cell_type": "code",
   "execution_count": 103,
   "id": "d2e8dcd5",
   "metadata": {},
   "outputs": [
    {
     "data": {
      "text/plain": [
       "1"
      ]
     },
     "execution_count": 103,
     "metadata": {},
     "output_type": "execute_result"
    }
   ],
   "source": [
    "# To get number of times an element occurs in the list\n",
    "my_list.count(10)"
   ]
  },
  {
   "cell_type": "code",
   "execution_count": 104,
   "id": "75bd603b",
   "metadata": {},
   "outputs": [
    {
     "data": {
      "text/plain": [
       "0"
      ]
     },
     "execution_count": 104,
     "metadata": {},
     "output_type": "execute_result"
    }
   ],
   "source": [
    "my_list.count('k')"
   ]
  },
  {
   "cell_type": "code",
   "execution_count": 105,
   "id": "7802e06c",
   "metadata": {},
   "outputs": [
    {
     "data": {
      "text/plain": [
       "1"
      ]
     },
     "execution_count": 105,
     "metadata": {},
     "output_type": "execute_result"
    }
   ],
   "source": [
    "my_list.count((9,0))"
   ]
  },
  {
   "cell_type": "code",
   "execution_count": 106,
   "id": "fb89428d",
   "metadata": {},
   "outputs": [
    {
     "data": {
      "text/plain": [
       "['a', 1, 2, 10, True, [2, 'k'], (9, 0)]"
      ]
     },
     "execution_count": 106,
     "metadata": {},
     "output_type": "execute_result"
    }
   ],
   "source": [
    "#To remove element in a particular index\n",
    "my_list.pop(0)\n",
    "my_list  "
   ]
  },
  {
   "cell_type": "code",
   "execution_count": 107,
   "id": "94c2b3ec",
   "metadata": {},
   "outputs": [
    {
     "data": {
      "text/plain": [
       "'a'"
      ]
     },
     "execution_count": 107,
     "metadata": {},
     "output_type": "execute_result"
    }
   ],
   "source": [
    "#Indexing in list\n",
    "# Index usually starts with 0\n",
    "my_list[0]"
   ]
  },
  {
   "cell_type": "code",
   "execution_count": 108,
   "id": "6b70011e",
   "metadata": {},
   "outputs": [
    {
     "data": {
      "text/plain": [
       "0"
      ]
     },
     "execution_count": 108,
     "metadata": {},
     "output_type": "execute_result"
    }
   ],
   "source": [
    "# To return index of a paricular element in list\n",
    "# my_list.index(value)\n",
    "my_list.index('a')"
   ]
  },
  {
   "cell_type": "code",
   "execution_count": 113,
   "id": "ba29c1f3",
   "metadata": {},
   "outputs": [
    {
     "data": {
      "text/plain": [
       "0"
      ]
     },
     "execution_count": 113,
     "metadata": {},
     "output_type": "execute_result"
    }
   ],
   "source": [
    "# my_list.index(value, start index,stop index)\n",
    "my_list.index('a',0,4) "
   ]
  },
  {
   "cell_type": "code",
   "execution_count": 114,
   "id": "29417184",
   "metadata": {},
   "outputs": [
    {
     "data": {
      "text/plain": [
       "(9, 0)"
      ]
     },
     "execution_count": 114,
     "metadata": {},
     "output_type": "execute_result"
    }
   ],
   "source": [
    "# Last element of list id denoted by index -1\n",
    "my_list[-1]"
   ]
  },
  {
   "cell_type": "code",
   "execution_count": 115,
   "id": "f690074b",
   "metadata": {},
   "outputs": [
    {
     "data": {
      "text/plain": [
       "[1, 2, 10, True, [2, 'k'], (9, 0)]"
      ]
     },
     "execution_count": 115,
     "metadata": {},
     "output_type": "execute_result"
    }
   ],
   "source": [
    "# To range of elements from index 1\n",
    "my_list[1:]"
   ]
  },
  {
   "cell_type": "code",
   "execution_count": 116,
   "id": "152d9c0c",
   "metadata": {},
   "outputs": [
    {
     "data": {
      "text/plain": [
       "['a', 1, 2]"
      ]
     },
     "execution_count": 116,
     "metadata": {},
     "output_type": "execute_result"
    }
   ],
   "source": [
    "# To range of elements ending at index 2, or first 3 elements\n",
    "my_list[:3]"
   ]
  },
  {
   "cell_type": "code",
   "execution_count": 117,
   "id": "30997eef",
   "metadata": {},
   "outputs": [
    {
     "data": {
      "text/plain": [
       "[1, 2, 10]"
      ]
     },
     "execution_count": 117,
     "metadata": {},
     "output_type": "execute_result"
    }
   ],
   "source": [
    "# To range of elements starting from index 1 to 3\n",
    "my_list[1:4]"
   ]
  },
  {
   "cell_type": "code",
   "execution_count": 118,
   "id": "fa4c1645",
   "metadata": {},
   "outputs": [
    {
     "name": "stdout",
     "output_type": "stream",
     "text": [
      "['a', 1, 2, 10, True, [2, 'k'], (9, 0), ['xyz', 1]]\n"
     ]
    }
   ],
   "source": [
    "# To extend list using append keyword (to add list inside list)\n",
    "my_list.append([\"xyz\", 1])\n",
    "print(my_list)"
   ]
  },
  {
   "cell_type": "code",
   "execution_count": 119,
   "id": "da22def9",
   "metadata": {},
   "outputs": [
    {
     "name": "stdout",
     "output_type": "stream",
     "text": [
      "['a', 1, 2, 10, True, [2, 'k'], (9, 0), ['xyz', 1], 'xyz', 1]\n"
     ]
    }
   ],
   "source": [
    "# To extend list using extend keyword (to add multiple elements)\n",
    "my_list.extend([\"xyz\", 1])\n",
    "print(my_list)"
   ]
  },
  {
   "cell_type": "code",
   "execution_count": 120,
   "id": "a1952e05",
   "metadata": {},
   "outputs": [
    {
     "name": "stdout",
     "output_type": "stream",
     "text": [
      "['a', 1, 2, 10, True, [2, 'k'], (9, 0), ['xyz', 1], 'xyz', 1, ['xyz', 1]]\n"
     ]
    }
   ],
   "source": [
    "# To extend list using extend keyword (to add list)\n",
    "my_list.extend([[\"xyz\", 1]])\n",
    "print(my_list)"
   ]
  },
  {
   "cell_type": "code",
   "execution_count": 122,
   "id": "979aff3b",
   "metadata": {},
   "outputs": [],
   "source": [
    "my_new_list = [1,8,0,9]"
   ]
  },
  {
   "cell_type": "code",
   "execution_count": 123,
   "id": "8a836bfc",
   "metadata": {},
   "outputs": [
    {
     "data": {
      "text/plain": [
       "9"
      ]
     },
     "execution_count": 123,
     "metadata": {},
     "output_type": "execute_result"
    }
   ],
   "source": [
    "max(my_new_list)"
   ]
  },
  {
   "cell_type": "code",
   "execution_count": 124,
   "id": "f2d47df4",
   "metadata": {},
   "outputs": [
    {
     "data": {
      "text/plain": [
       "0"
      ]
     },
     "execution_count": 124,
     "metadata": {},
     "output_type": "execute_result"
    }
   ],
   "source": [
    "min(my_new_list)"
   ]
  },
  {
   "cell_type": "markdown",
   "id": "4bd76d78",
   "metadata": {},
   "source": [
    "max and min are applicable to numerical lists only"
   ]
  },
  {
   "cell_type": "markdown",
   "id": "8d882e90",
   "metadata": {},
   "source": [
    "# SETS - Mutable, Iterable & Unordered Collection of data which has no duplicate elements , written inside curly braces { }"
   ]
  },
  {
   "cell_type": "code",
   "execution_count": 134,
   "id": "7a799423",
   "metadata": {},
   "outputs": [],
   "source": [
    "# Its created with the help of empty set formed using function set()\n",
    "set_1 = set()"
   ]
  },
  {
   "cell_type": "code",
   "execution_count": 135,
   "id": "df388681",
   "metadata": {},
   "outputs": [
    {
     "data": {
      "text/plain": [
       "set"
      ]
     },
     "execution_count": 135,
     "metadata": {},
     "output_type": "execute_result"
    }
   ],
   "source": [
    "type(set_1)"
   ]
  },
  {
   "cell_type": "code",
   "execution_count": 148,
   "id": "2847e177",
   "metadata": {},
   "outputs": [
    {
     "data": {
      "text/plain": [
       "set"
      ]
     },
     "execution_count": 148,
     "metadata": {},
     "output_type": "execute_result"
    }
   ],
   "source": [
    "set_1 = {\"Data Science\",\"Data Analysis\", \"Artificial Intelligence\",\"Machine Learning\"}\n",
    "type(set_1)"
   ]
  },
  {
   "cell_type": "raw",
   "id": "a52f9684",
   "metadata": {},
   "source": [
    "set_var"
   ]
  },
  {
   "cell_type": "code",
   "execution_count": 137,
   "id": "de076f8f",
   "metadata": {},
   "outputs": [
    {
     "name": "stdout",
     "output_type": "stream",
     "text": [
      "{'Data Analysis', 'Artificial Intelligence', 'Machine Learning', 'Data Science'}\n"
     ]
    }
   ],
   "source": [
    "print(set_1)"
   ]
  },
  {
   "cell_type": "code",
   "execution_count": 149,
   "id": "f6505e53",
   "metadata": {},
   "outputs": [
    {
     "name": "stdout",
     "output_type": "stream",
     "text": [
      "{'Deep Learning', 'Machine Learning', 'Data Analysis', 'Artificial Intelligence', 'Data Science'}\n"
     ]
    }
   ],
   "source": [
    "# To add new element to set\n",
    "set_1.add(\"Deep Learning\")\n",
    "print(set_1)"
   ]
  },
  {
   "cell_type": "markdown",
   "id": "4e8e217d",
   "metadata": {},
   "source": [
    "No indexing is possible in sets"
   ]
  },
  {
   "cell_type": "code",
   "execution_count": 150,
   "id": "145c3805",
   "metadata": {},
   "outputs": [],
   "source": [
    "set_2 = {'Data Analysis', 'Data Science'}"
   ]
  },
  {
   "cell_type": "code",
   "execution_count": 140,
   "id": "3c436854",
   "metadata": {},
   "outputs": [
    {
     "data": {
      "text/plain": [
       "set()"
      ]
     },
     "execution_count": 140,
     "metadata": {},
     "output_type": "execute_result"
    }
   ],
   "source": [
    "set_2.difference(set_1)"
   ]
  },
  {
   "cell_type": "code",
   "execution_count": 151,
   "id": "9462c0b8",
   "metadata": {},
   "outputs": [
    {
     "data": {
      "text/plain": [
       "{'Artificial Intelligence', 'Deep Learning', 'Machine Learning'}"
      ]
     },
     "execution_count": 151,
     "metadata": {},
     "output_type": "execute_result"
    }
   ],
   "source": [
    "set_1.difference(set_2)"
   ]
  },
  {
   "cell_type": "code",
   "execution_count": 153,
   "id": "d1d9ee22",
   "metadata": {},
   "outputs": [
    {
     "name": "stdout",
     "output_type": "stream",
     "text": [
      "{'Deep Learning', 'Machine Learning', 'Data Analysis', 'Artificial Intelligence', 'Data Science'}\n"
     ]
    }
   ],
   "source": [
    "# But\n",
    "print(set_1)"
   ]
  },
  {
   "cell_type": "code",
   "execution_count": 154,
   "id": "396ce675",
   "metadata": {},
   "outputs": [
    {
     "name": "stdout",
     "output_type": "stream",
     "text": [
      "{'Deep Learning', 'Machine Learning', 'Artificial Intelligence'}\n"
     ]
    }
   ],
   "source": [
    "# to update values in set 1\n",
    "set_1.difference_update(set_2)\n",
    "print(set_1)"
   ]
  },
  {
   "cell_type": "markdown",
   "id": "117e23a9",
   "metadata": {},
   "source": [
    "# Dictionary - Unordered, Mutable, Indexed elements in curly braces, have keys and values"
   ]
  },
  {
   "cell_type": "code",
   "execution_count": 155,
   "id": "c6825de3",
   "metadata": {},
   "outputs": [
    {
     "data": {
      "text/plain": [
       "dict"
      ]
     },
     "execution_count": 155,
     "metadata": {},
     "output_type": "execute_result"
    }
   ],
   "source": [
    "dict_1 = {\"car1\":\"Nexon\",\"car2\":\"Punch\",\"car3\":\"Harrier\" }\n",
    "type(dict_1)"
   ]
  },
  {
   "cell_type": "markdown",
   "id": "77355a2d",
   "metadata": {},
   "source": [
    "Difference between dictionary and set is that:\n",
    "\n",
    "Set has no index, dictionary has keys as index"
   ]
  },
  {
   "cell_type": "code",
   "execution_count": 156,
   "id": "cd5073b8",
   "metadata": {},
   "outputs": [
    {
     "data": {
      "text/plain": [
       "set"
      ]
     },
     "execution_count": 156,
     "metadata": {},
     "output_type": "execute_result"
    }
   ],
   "source": [
    "my_set_1 = {\"Nexon\",\"Punch\",\"Harrier\" }\n",
    "type(my_set_1)"
   ]
  },
  {
   "cell_type": "code",
   "execution_count": 157,
   "id": "5a109964",
   "metadata": {},
   "outputs": [
    {
     "data": {
      "text/plain": [
       "'Nexon'"
      ]
     },
     "execution_count": 157,
     "metadata": {},
     "output_type": "execute_result"
    }
   ],
   "source": [
    "dict_1[\"car1\"]"
   ]
  },
  {
   "cell_type": "code",
   "execution_count": 158,
   "id": "f0259f53",
   "metadata": {},
   "outputs": [
    {
     "name": "stdout",
     "output_type": "stream",
     "text": [
      "car1\n",
      "car2\n",
      "car3\n"
     ]
    }
   ],
   "source": [
    "for x in dict_1:\n",
    "    print(x)"
   ]
  },
  {
   "cell_type": "code",
   "execution_count": 160,
   "id": "0a52891b",
   "metadata": {},
   "outputs": [
    {
     "name": "stdout",
     "output_type": "stream",
     "text": [
      "Nexon\n",
      "Punch\n",
      "Harrier\n"
     ]
    }
   ],
   "source": [
    "for x in dict_1.values():\n",
    "    print(x)"
   ]
  },
  {
   "cell_type": "code",
   "execution_count": 161,
   "id": "b58b8010",
   "metadata": {},
   "outputs": [
    {
     "name": "stdout",
     "output_type": "stream",
     "text": [
      "('car1', 'Nexon')\n",
      "('car2', 'Punch')\n",
      "('car3', 'Harrier')\n"
     ]
    }
   ],
   "source": [
    "for x in dict_1.items():\n",
    "    print(x)"
   ]
  },
  {
   "cell_type": "code",
   "execution_count": 162,
   "id": "36cfc43e",
   "metadata": {},
   "outputs": [],
   "source": [
    "#Adding new elements in dictionary\n",
    "dict_1[\"car4\"] = \"Tiago\""
   ]
  },
  {
   "cell_type": "raw",
   "id": "73c5e2bb",
   "metadata": {},
   "source": [
    "for x in dict_1.items():\n",
    "    print(x)"
   ]
  },
  {
   "cell_type": "code",
   "execution_count": 164,
   "id": "990afe6c",
   "metadata": {},
   "outputs": [],
   "source": [
    "#To replace elements\n",
    "dict_1[\"car4\"] = \"Altroz\""
   ]
  },
  {
   "cell_type": "code",
   "execution_count": 165,
   "id": "1da18604",
   "metadata": {},
   "outputs": [
    {
     "name": "stdout",
     "output_type": "stream",
     "text": [
      "('car1', 'Nexon')\n",
      "('car2', 'Punch')\n",
      "('car3', 'Harrier')\n",
      "('car4', 'Altroz')\n"
     ]
    }
   ],
   "source": [
    "for x in dict_1.items():\n",
    "    print(x)"
   ]
  },
  {
   "cell_type": "markdown",
   "id": "02ff7092",
   "metadata": {},
   "source": [
    "# Nested Dictionary"
   ]
  },
  {
   "cell_type": "code",
   "execution_count": 170,
   "id": "2fb99b75",
   "metadata": {},
   "outputs": [],
   "source": [
    "car1_model = {\"Nexon\":2017}\n",
    "car2_model = {\"Punch\":2021}\n",
    "car3_model = {\"Harrier\":2019}"
   ]
  },
  {
   "cell_type": "code",
   "execution_count": 171,
   "id": "19b50c14",
   "metadata": {},
   "outputs": [],
   "source": [
    "car_type = {\"car1\":car1_model,\"car2\":car2_model,\"car3\":car3_model}"
   ]
  },
  {
   "cell_type": "code",
   "execution_count": 172,
   "id": "ca331cec",
   "metadata": {},
   "outputs": [
    {
     "name": "stdout",
     "output_type": "stream",
     "text": [
      "('car1', {'Nexon': 2017})\n",
      "('car2', {'Punch': 2021})\n",
      "('car3', {'Harrier': 2019})\n"
     ]
    }
   ],
   "source": [
    "for x in car_type.items():\n",
    "    print(x)"
   ]
  },
  {
   "cell_type": "code",
   "execution_count": 173,
   "id": "d25ea821",
   "metadata": {},
   "outputs": [
    {
     "name": "stdout",
     "output_type": "stream",
     "text": [
      "{'Nexon': 2017}\n"
     ]
    }
   ],
   "source": [
    "print(car_type['car1'])"
   ]
  },
  {
   "cell_type": "code",
   "execution_count": 174,
   "id": "d03f9701",
   "metadata": {},
   "outputs": [
    {
     "name": "stdout",
     "output_type": "stream",
     "text": [
      "2017\n"
     ]
    }
   ],
   "source": [
    "print(car_type['car1']['Nexon'])"
   ]
  },
  {
   "cell_type": "markdown",
   "id": "b9ce3a16",
   "metadata": {},
   "source": [
    "# Tuples - Immutable set of elements within ( )"
   ]
  },
  {
   "cell_type": "code",
   "execution_count": 185,
   "id": "7d6d02a0",
   "metadata": {},
   "outputs": [
    {
     "name": "stdout",
     "output_type": "stream",
     "text": [
      "('vegetables', 'Fruits', 'Herbs')\n"
     ]
    }
   ],
   "source": [
    "tuple_1 = (\"vegetables\", \"Fruits\", \"Herbs\")\n",
    "print(tuple_1)"
   ]
  },
  {
   "cell_type": "code",
   "execution_count": 186,
   "id": "7716526a",
   "metadata": {},
   "outputs": [
    {
     "data": {
      "text/plain": [
       "'vegetables'"
      ]
     },
     "execution_count": 186,
     "metadata": {},
     "output_type": "execute_result"
    }
   ],
   "source": [
    "tuple_1[0]"
   ]
  },
  {
   "cell_type": "code",
   "execution_count": 187,
   "id": "dc0fdfd6",
   "metadata": {},
   "outputs": [
    {
     "ename": "TypeError",
     "evalue": "'tuple' object does not support item assignment",
     "output_type": "error",
     "traceback": [
      "\u001b[1;31m---------------------------------------------------------------------------\u001b[0m",
      "\u001b[1;31mTypeError\u001b[0m                                 Traceback (most recent call last)",
      "\u001b[1;32m~\\AppData\\Local\\Temp/ipykernel_4716/4185256091.py\u001b[0m in \u001b[0;36m<module>\u001b[1;34m\u001b[0m\n\u001b[1;32m----> 1\u001b[1;33m \u001b[0mtuple_1\u001b[0m\u001b[1;33m[\u001b[0m\u001b[1;36m0\u001b[0m\u001b[1;33m]\u001b[0m\u001b[1;33m=\u001b[0m\u001b[1;34m'bakery'\u001b[0m\u001b[1;33m\u001b[0m\u001b[1;33m\u001b[0m\u001b[0m\n\u001b[0m\u001b[0;32m      2\u001b[0m \u001b[0mprint\u001b[0m\u001b[1;33m(\u001b[0m\u001b[0mtuple_1\u001b[0m\u001b[1;33m)\u001b[0m\u001b[1;33m\u001b[0m\u001b[1;33m\u001b[0m\u001b[0m\n",
      "\u001b[1;31mTypeError\u001b[0m: 'tuple' object does not support item assignment"
     ]
    }
   ],
   "source": [
    "tuple_1[0]='bakery'\n",
    "print(tuple_1)"
   ]
  },
  {
   "cell_type": "markdown",
   "id": "04eb88cc",
   "metadata": {},
   "source": [
    "So tuple does not support item assignment\n",
    "But whole tuple can be changed"
   ]
  },
  {
   "cell_type": "code",
   "execution_count": 190,
   "id": "4a76abda",
   "metadata": {},
   "outputs": [
    {
     "name": "stdout",
     "output_type": "stream",
     "text": [
      "('biriyani', 'fried rice')\n"
     ]
    }
   ],
   "source": [
    "tuple_1=('biriyani','fried rice')\n",
    "print(tuple_1)"
   ]
  },
  {
   "cell_type": "code",
   "execution_count": 192,
   "id": "3c67e5bf",
   "metadata": {},
   "outputs": [
    {
     "data": {
      "text/plain": [
       "1"
      ]
     },
     "execution_count": 192,
     "metadata": {},
     "output_type": "execute_result"
    }
   ],
   "source": [
    "# To count number of times an element occurs\n",
    "tuple_1.count('biriyani')"
   ]
  },
  {
   "cell_type": "code",
   "execution_count": 193,
   "id": "ddc4e9f6",
   "metadata": {},
   "outputs": [
    {
     "data": {
      "text/plain": [
       "0"
      ]
     },
     "execution_count": 193,
     "metadata": {},
     "output_type": "execute_result"
    }
   ],
   "source": [
    "# To find index of an element occurs\n",
    "tuple_1.index('biriyani')"
   ]
  },
  {
   "cell_type": "code",
   "execution_count": null,
   "id": "86be643f",
   "metadata": {},
   "outputs": [],
   "source": []
  }
 ],
 "metadata": {
  "kernelspec": {
   "display_name": "Python 3 (ipykernel)",
   "language": "python",
   "name": "python3"
  },
  "language_info": {
   "codemirror_mode": {
    "name": "ipython",
    "version": 3
   },
   "file_extension": ".py",
   "mimetype": "text/x-python",
   "name": "python",
   "nbconvert_exporter": "python",
   "pygments_lexer": "ipython3",
   "version": "3.9.7"
  }
 },
 "nbformat": 4,
 "nbformat_minor": 5
}
